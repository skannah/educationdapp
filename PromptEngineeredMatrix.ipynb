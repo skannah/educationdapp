{
 "cells": [
  {
   "cell_type": "code",
   "execution_count": 1,
   "id": "cf87dcb8",
   "metadata": {},
   "outputs": [
    {
     "name": "stdout",
     "output_type": "stream",
     "text": [
      "Result of matrix multiplication:\n",
      "[[ 17.   20.   23.    6. ]\n",
      " [-17.  -20.  -23.   -6. ]\n",
      " [  1.7   2.    2.3   0.6]]\n"
     ]
    }
   ],
   "source": [
    "import numpy as np\n",
    "\n",
    "# Define matrices X and W\n",
    "X = np.array([[1, 2], [-1, -2], [0.1, 0.2]])\n",
    "W = np.array([[3, 4, 5, 6], [7, 8, 9, 0]])\n",
    "\n",
    "# Perform matrix multiplication\n",
    "result = np.matmul(X, W)\n",
    "\n",
    "print(\"Result of matrix multiplication:\")\n",
    "print(result)\n"
   ]
  },
  {
   "cell_type": "code",
   "execution_count": null,
   "id": "be069931",
   "metadata": {},
   "outputs": [],
   "source": []
  }
 ],
 "metadata": {
  "kernelspec": {
   "display_name": "Python 3 (ipykernel)",
   "language": "python",
   "name": "python3"
  },
  "language_info": {
   "codemirror_mode": {
    "name": "ipython",
    "version": 3
   },
   "file_extension": ".py",
   "mimetype": "text/x-python",
   "name": "python",
   "nbconvert_exporter": "python",
   "pygments_lexer": "ipython3",
   "version": "3.11.4"
  }
 },
 "nbformat": 4,
 "nbformat_minor": 5
}
